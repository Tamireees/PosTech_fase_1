{
 "cells": [
  {
   "cell_type": "markdown",
   "metadata": {},
   "source": [
    "# Álgebra e Estatística em Python"
   ]
  },
  {
   "cell_type": "markdown",
   "metadata": {},
   "source": [
    "# Álgebra Linear "
   ]
  },
  {
   "cell_type": "markdown",
   "metadata": {},
   "source": [
    "* Álgebra Linear: é um ramo da matemática que se dedica ao estudo de vetores, espaços vetoriais, transformações lineares, sistemas de equações lineares e matrizes. Na analise de dados, ela é uma ferramenta fundamental para lidar com conjuntos de dados que podem ser representados como matrizes e vetores, no qual auxilia na resolução de problemas de otimização, como a minimização de erros ou a maximização de funções de custo, por exemplo.\n",
    "\n",
    "Algumas das principais técnicas de álgebra linear utilizadas na analise de dados incluem a decomposição de matrizes, como a decomposição em valores singulares (SVD) e a decomposição de autovalores e autovetores (PCA), além de técnicas de resolução de sistemas lineares, como a eliminação de Gauss e a decomposição LU.\n"
   ]
  },
  {
   "cell_type": "code",
   "execution_count": 1,
   "metadata": {},
   "outputs": [],
   "source": [
    "# Álgebra Linear (resolver sistemas de equações lineares)\n",
    "# -> x + 2 = 5  -> x = 3 \n",
    "\n",
    "# x + y = 10 -> -3 + 13 = 10 ------ Infinitas Soluções = é chamado de \"diofantina\" (sistema possível e indeterminado)\n",
    "# X e Y podem tem infinitas soluções, podendo ser qualquer número que se iguale ao 10 por exemplo.\n",
    "\n",
    "# Equação Linear embutidas em problemas de negócios\n",
    "\n",
    "# Caso tenhamos estas duas informações, conseguimos fazer uma equação embutida. Substituindo o Y na primeira equação.\n",
    "# x + y = 10\n",
    "# 2x - y = 11        -> y = - 11/2x\n",
    "#                                   -> x + (- 11/2x) = 10\n",
    "\n",
    "\n"
   ]
  },
  {
   "cell_type": "markdown",
   "metadata": {},
   "source": [
    "linguagem Latex:\n",
    "$$ \\alpha + \\beta = 10$$\n",
    "\n",
    "linguagem Katex:\n",
    "$$ \\begin{pmatrix}\n",
    "\\end{pmatrix}\n",
    "$$\n",
    "\n",
    "\\begin{pmatrix}\n",
    "a & b \\\\\n",
    "c & d \\\\\n",
    "\\end{pmatrix}\n"
   ]
  },
  {
   "cell_type": "code",
   "execution_count": 2,
   "metadata": {},
   "outputs": [],
   "source": [
    "import numpy as np\n",
    "import scipy as sc\n",
    "import sympy as sy # com essa biblioteca, podemos ter a solução sem ter que colocar a linguagem Latex/katex"
   ]
  },
  {
   "cell_type": "code",
   "execution_count": 3,
   "metadata": {},
   "outputs": [],
   "source": [
    "# Escalar (qualquer número, tensor de ordem 0) -> \n",
    "x = 2\n",
    "# Vetor, precisa estar em um plano cartesiano para ver a seta, pq a ponta da seta precisa estar no para-ordenado (x, y) (tensor de ordem 1)\n",
    "x1 = [1,2,3] # lista escalar\n",
    "x2 = np.array([1,2,3]) # vetor com três elementos escalares\n",
    "\n",
    "# Matriz é um objeto vetorial, para visualizar um vetor eu preciso dos eixos x e Y, porém para visualizar a matriz e necessário\n",
    "# os eixos X, Y e Z (são: a largura, altura e profundidade), são os objetos 3D. (tensor de ordem 2)\n",
    "\n",
    "x3 = np.array([[1],[2],[3]]) # matriz com três elementos vetores com elementos escalares\n",
    "x4= np.matrix([[1,2,3],[1,2,3],[1,2,3]])\n"
   ]
  },
  {
   "cell_type": "code",
   "execution_count": 4,
   "metadata": {},
   "outputs": [
    {
     "name": "stdout",
     "output_type": "stream",
     "text": [
      "2\n",
      "\n",
      "[1, 2, 3]\n",
      "\n",
      "[1 2 3]\n",
      "\n",
      "[[1]\n",
      " [2]\n",
      " [3]]\n",
      "\n",
      "[[1 2 3]\n",
      " [1 2 3]\n",
      " [1 2 3]]\n"
     ]
    }
   ],
   "source": [
    "# Diferença de cada:\n",
    "\n",
    "print(x) #escalar\n",
    "print()\n",
    "print(x1) # lista, pois há virgular separando os números\n",
    "print()\n",
    "print(x2) # vetor único = vetor linha pois está na horizontal (é o único vetor com três componentes)/ vetor cujo os elementos são escalares\n",
    "print()\n",
    "print(x3) # Matriz coluna (matriz é a união de vários vetores)\n",
    "print()\n",
    "print(x4) # Matriz Tradicional\n"
   ]
  },
  {
   "cell_type": "code",
   "execution_count": 5,
   "metadata": {},
   "outputs": [
    {
     "data": {
      "text/html": [
       "<div>\n",
       "<style scoped>\n",
       "    .dataframe tbody tr th:only-of-type {\n",
       "        vertical-align: middle;\n",
       "    }\n",
       "\n",
       "    .dataframe tbody tr th {\n",
       "        vertical-align: top;\n",
       "    }\n",
       "\n",
       "    .dataframe thead th {\n",
       "        text-align: right;\n",
       "    }\n",
       "</style>\n",
       "<table border=\"1\" class=\"dataframe\">\n",
       "  <thead>\n",
       "    <tr style=\"text-align: right;\">\n",
       "      <th></th>\n",
       "      <th>coluna 1</th>\n",
       "    </tr>\n",
       "  </thead>\n",
       "  <tbody>\n",
       "    <tr>\n",
       "      <th>0</th>\n",
       "      <td>1</td>\n",
       "    </tr>\n",
       "    <tr>\n",
       "      <th>1</th>\n",
       "      <td>2</td>\n",
       "    </tr>\n",
       "    <tr>\n",
       "      <th>2</th>\n",
       "      <td>3</td>\n",
       "    </tr>\n",
       "    <tr>\n",
       "      <th>3</th>\n",
       "      <td>4</td>\n",
       "    </tr>\n",
       "    <tr>\n",
       "      <th>4</th>\n",
       "      <td>5</td>\n",
       "    </tr>\n",
       "  </tbody>\n",
       "</table>\n",
       "</div>"
      ],
      "text/plain": [
       "   coluna 1\n",
       "0         1\n",
       "1         2\n",
       "2         3\n",
       "3         4\n",
       "4         5"
      ]
     },
     "execution_count": 5,
     "metadata": {},
     "output_type": "execute_result"
    }
   ],
   "source": [
    "# dataframe é uma estrutura tabular\n",
    "import pandas as pd\n",
    "lista = [1,2,3,4,5]\n",
    "# df = pd.DataFrame(lista) # desta maneira, o DataFrame será criado sem nome de coluna\n",
    "df = pd.DataFrame({\"coluna 1\":lista}) # desta forma, add dicionário \"{}\": podemos nomear a coluna\n",
    "df"
   ]
  },
  {
   "cell_type": "code",
   "execution_count": 6,
   "metadata": {},
   "outputs": [
    {
     "data": {
      "text/plain": [
       "pandas.core.frame.DataFrame"
      ]
     },
     "execution_count": 6,
     "metadata": {},
     "output_type": "execute_result"
    }
   ],
   "source": [
    "type(df)\n",
    "# DataSeries é um vetor coluna\n",
    "# DataFrame é uma matriz"
   ]
  },
  {
   "cell_type": "code",
   "execution_count": 7,
   "metadata": {},
   "outputs": [
    {
     "data": {
      "text/html": [
       "<div>\n",
       "<style scoped>\n",
       "    .dataframe tbody tr th:only-of-type {\n",
       "        vertical-align: middle;\n",
       "    }\n",
       "\n",
       "    .dataframe tbody tr th {\n",
       "        vertical-align: top;\n",
       "    }\n",
       "\n",
       "    .dataframe thead th {\n",
       "        text-align: right;\n",
       "    }\n",
       "</style>\n",
       "<table border=\"1\" class=\"dataframe\">\n",
       "  <thead>\n",
       "    <tr style=\"text-align: right;\">\n",
       "      <th></th>\n",
       "      <th>coluna</th>\n",
       "      <th>coluna 1</th>\n",
       "    </tr>\n",
       "  </thead>\n",
       "  <tbody>\n",
       "    <tr>\n",
       "      <th>0</th>\n",
       "      <td>1</td>\n",
       "      <td>1</td>\n",
       "    </tr>\n",
       "    <tr>\n",
       "      <th>1</th>\n",
       "      <td>2</td>\n",
       "      <td>2</td>\n",
       "    </tr>\n",
       "    <tr>\n",
       "      <th>2</th>\n",
       "      <td>3</td>\n",
       "      <td>3</td>\n",
       "    </tr>\n",
       "    <tr>\n",
       "      <th>3</th>\n",
       "      <td>4</td>\n",
       "      <td>4</td>\n",
       "    </tr>\n",
       "    <tr>\n",
       "      <th>4</th>\n",
       "      <td>5</td>\n",
       "      <td>5</td>\n",
       "    </tr>\n",
       "  </tbody>\n",
       "</table>\n",
       "</div>"
      ],
      "text/plain": [
       "   coluna  coluna 1\n",
       "0       1         1\n",
       "1       2         2\n",
       "2       3         3\n",
       "3       4         4\n",
       "4       5         5"
      ]
     },
     "execution_count": 7,
     "metadata": {},
     "output_type": "execute_result"
    }
   ],
   "source": [
    "# Usando o numpy e pandas: tendo como mesmo resultado, porém desta maneira é a melhor para o dia a dia\n",
    "\n",
    "lista = np.array([1,2,3,4,5]) # Matriz coluna (matriz é a união de vários vetores)\n",
    "\n",
    "df1 = pd.DataFrame({\"coluna\":lista, \"coluna 1\":lista })\n",
    "df1"
   ]
  },
  {
   "cell_type": "code",
   "execution_count": 8,
   "metadata": {},
   "outputs": [
    {
     "data": {
      "text/plain": [
       "pandas.core.series.Series"
      ]
     },
     "execution_count": 8,
     "metadata": {},
     "output_type": "execute_result"
    }
   ],
   "source": [
    "type(df1.coluna)\n",
    "# A matriz é um conjunto de vetores (DataSeries é um vetor coluna)"
   ]
  },
  {
   "cell_type": "code",
   "execution_count": 9,
   "metadata": {},
   "outputs": [
    {
     "data": {
      "text/plain": [
       "array([1])"
      ]
     },
     "execution_count": 9,
     "metadata": {},
     "output_type": "execute_result"
    }
   ],
   "source": [
    "lista[:1] #esse código simula o PROCV do Excel"
   ]
  },
  {
   "cell_type": "markdown",
   "metadata": {},
   "source": [
    "* Vetores e Matrizes: Um vetor é uma sequência ordenadas de números, representados como uma coluna ou uma linha de valores. Na análise de dados, os vetores são frequentemente usados para representar observações individuais ou amostras de dados, onde cada elemento do vetor representa uma variável diferente.\n",
    "\n",
    "Matriz é uma coleção de números organizados em linhas e colunas. Na análise de dados, as matrizes são usadas para representar conjuntos de dados multidimensionais, onde cada linha da matriz representa uma observação e cada coluna representa uma variável.\n",
    "\n",
    "As operações com vetores e matrizes são amplamente utilizadas na análise de dados, como por exemplo, a adição e subtração de vetores ou matrizes, a multiplicação de vetores e matrizes, a transposição de matrizes e a inversão de matrizes.\n",
    "\n"
   ]
  },
  {
   "cell_type": "markdown",
   "metadata": {},
   "source": [
    "### Soma e Subtracao com vetores e matrizes"
   ]
  },
  {
   "cell_type": "code",
   "execution_count": 10,
   "metadata": {},
   "outputs": [
    {
     "data": {
      "text/plain": [
       "array([[2, 3, 4],\n",
       "       [3, 4, 5],\n",
       "       [4, 5, 6]])"
      ]
     },
     "execution_count": 10,
     "metadata": {},
     "output_type": "execute_result"
    }
   ],
   "source": [
    "x2 + x3 \n",
    "# x3: NDArray[Any]\n",
    "# combinação linear: somatório de elementos multiplicados entre si\n"
   ]
  },
  {
   "cell_type": "code",
   "execution_count": 11,
   "metadata": {},
   "outputs": [
    {
     "data": {
      "text/plain": [
       "matrix([[2, 4, 6],\n",
       "        [2, 4, 6],\n",
       "        [2, 4, 6]])"
      ]
     },
     "execution_count": 11,
     "metadata": {},
     "output_type": "execute_result"
    }
   ],
   "source": [
    "# somar e subtrair apenas para elementos da mesma natureza\n",
    "# matriz deve ter o mesmo tamanho para fazer soma e subtração\n",
    "x4+x4"
   ]
  },
  {
   "cell_type": "markdown",
   "metadata": {},
   "source": [
    "### Multiplicar vetores e matrizes"
   ]
  },
  {
   "cell_type": "markdown",
   "metadata": {},
   "source": [
    "* Espaço Vetorial: é um conjunto de vetores, que podem ser somados e multiplicados por escalares, obedecendo a certas regras e propriedades matemáticas. São usados para representar e manipular conjuntos de dados multidimensionais, como por exemplo, vetores de característica de imagem, conjuntos de dados em problemas de Machine Learning e series temporais.\n",
    "\n",
    "Possui as seguintes propriedades:\n",
    "\n",
    "- Adição: a adição de dois vetores em um espaço vetorial resulta em outro vetor no mesmo espaço vetorial.\n",
    "\n",
    "- Multiplicação por escalar: resulta em um outro vetor no mesmo espaço vetorial. \n",
    "\n",
    "- Comutatividade e associatividade: as operações de adição e multiplicação escalar em um espaço vetorial são comutativas e associativas.\n",
    "\n",
    "- Elemento Inverso: para cada vetor em um espaço vetorial, existe um vetor oposto que, quando adicionado ao vetor original, resulta no vetor nulo.\n",
    "\n",
    "- Distributividade: a multiplicação por escalar distribui sobre a adição de vetores."
   ]
  },
  {
   "cell_type": "code",
   "execution_count": 12,
   "metadata": {},
   "outputs": [],
   "source": [
    "\n",
    "# Array = vetores\n",
    "\n",
    "# Para multiplicar dois arrays, as regras primordiais são:\n",
    "# arr1 = (x,y)   /  arr2 = (z,w) ------> y = z / arr3 (x,w)\n",
    "# para multiplicar o arr1 e arr2, so pode ocorrer quando o número de colunas do primeiro array (arr1) \"y\", for igual ao número de linhas do segundo array (arr2) \"z\"\n",
    "# Resultando em um novo array (arr3) cuja dimensão será preservada o número de linha do primeiro array (arr1) \"x\" e a quantidade de colunas do segundo array (arr2) \"w\"\n",
    "# obtendo a máxima\n",
    "\n",
    "#Ferramentas para fazer a multiplicação de vetores e matrizes\n",
    "# opção 1: np.dot \n",
    "# opção 2: @ (é a multiplicação entre matrizes)"
   ]
  },
  {
   "cell_type": "code",
   "execution_count": 13,
   "metadata": {},
   "outputs": [
    {
     "data": {
      "text/plain": [
       "matrix([[14],\n",
       "        [14],\n",
       "        [14]])"
      ]
     },
     "execution_count": 13,
     "metadata": {},
     "output_type": "execute_result"
    }
   ],
   "source": [
    "# np.dot(x3,x4)\n",
    "# ValueError: shapes (3,1) and (3,3) not aligned: 1 (dim 1) != 3 (dim 0)\n",
    "# Impossível fazer a multiplicação pois as dimensões são diferentes\n",
    "\n",
    "#np.dot(x4,x3)    #x4(3,3)    ---  x3(3,1)\n",
    "# Neste caso podemos obter a multiplicação, pois o números de colunas do primeiro e o mesmo número de linhas do segundo\n",
    "\n",
    "# Em matriz, a ordem dos fatores altera o produto final\n",
    "\n",
    "x4@x3"
   ]
  },
  {
   "cell_type": "markdown",
   "metadata": {},
   "source": [
    "* Distância Euclidiana: é uma medida de distância entre dois pontos em um espaço euclidiano. Na análise de dados, é frequentemente usada para calcular a distância entre pontos em um espaço vetorial n-dimensional, o que pode ser útil em problemas de Clustering, Classificação, Análise de Séries Temporais e outras aplicações. Além disso, pode ser usada como uma métrica para avaliar a qualidade de modelos de aprendizado de máquina, como a regressão linear e a classificação."
   ]
  },
  {
   "cell_type": "markdown",
   "metadata": {},
   "source": [
    "### Divisão vetores e matrizes"
   ]
  },
  {
   "cell_type": "code",
   "execution_count": 14,
   "metadata": {},
   "outputs": [
    {
     "data": {
      "text/plain": [
       "'\\nPara os escalares, o Zero na soma e na subtração é o que chamamos de Elemento Neutro. \\nPorém, o 1 na multiplicação e na divisão é um Elemento Neutro\\n'"
      ]
     },
     "execution_count": 14,
     "metadata": {},
     "output_type": "execute_result"
    }
   ],
   "source": [
    "# (.) é um tipo de multiplicação\n",
    "# 2 . x = y === escalar\n",
    "# A . X = Y === vetores ----> Equação Fundamental da Álgebra Linear\n",
    "\n",
    "'''\n",
    "Para os escalares, o Zero na soma e na subtração é o que chamamos de Elemento Neutro. \n",
    "Porém, o 1 na multiplicação e na divisão é um Elemento Neutro\n",
    "'''"
   ]
  },
  {
   "cell_type": "code",
   "execution_count": 15,
   "metadata": {},
   "outputs": [
    {
     "data": {
      "text/plain": [
       "'\\na + b = a\\nSó é possível o resultado ser igual a \"a\" se o b for 0\\n'"
      ]
     },
     "execution_count": 15,
     "metadata": {},
     "output_type": "execute_result"
    }
   ],
   "source": [
    "'''\n",
    "a + b = a\n",
    "Só é possível o resultado ser igual a \"a\" se o b for 0\n",
    "'''"
   ]
  },
  {
   "cell_type": "code",
   "execution_count": 16,
   "metadata": {},
   "outputs": [
    {
     "name": "stdout",
     "output_type": "stream",
     "text": [
      "[0. 0. 0.]\n",
      "\n",
      "[1. 1. 1.]\n"
     ]
    }
   ],
   "source": [
    "zeros = np.zeros(3)\n",
    "ones = np.ones(3)\n",
    "print(zeros)\n",
    "print()\n",
    "print(ones)"
   ]
  },
  {
   "cell_type": "code",
   "execution_count": 17,
   "metadata": {},
   "outputs": [
    {
     "name": "stdout",
     "output_type": "stream",
     "text": [
      "[[0. 0. 0.]\n",
      " [0. 0. 0.]\n",
      " [0. 0. 0.]]\n",
      "\n",
      "[[1. 1. 1.]\n",
      " [1. 1. 1.]\n",
      " [1. 1. 1.]]\n"
     ]
    }
   ],
   "source": [
    "zeros = np.zeros((3,3))\n",
    "ones = np.ones((3,3))\n",
    "print(zeros)\n",
    "print()\n",
    "print(ones)"
   ]
  },
  {
   "cell_type": "markdown",
   "metadata": {},
   "source": [
    "$$\n",
    "A = \\begin{pmatrix}\n",
    "a_{00} & a_{01} & a_{02} \\\\\n",
    "a_{10} & a_{11} & a_{12} \\\\\n",
    "a_{20} & a_{21} & a_{22}\n",
    "\\end{pmatrix}\n",
    "\n",
    "$$"
   ]
  },
  {
   "cell_type": "code",
   "execution_count": 18,
   "metadata": {},
   "outputs": [
    {
     "data": {
      "text/plain": [
       "array([[1., 0., 0.],\n",
       "       [0., 1., 0.],\n",
       "       [0., 0., 1.]])"
      ]
     },
     "execution_count": 18,
     "metadata": {},
     "output_type": "execute_result"
    }
   ],
   "source": [
    "# Matriz identidade\n",
    "id = np.eye(3)\n",
    "id"
   ]
  },
  {
   "cell_type": "code",
   "execution_count": 19,
   "metadata": {},
   "outputs": [
    {
     "data": {
      "text/plain": [
       "matrix([[1., 2., 3.],\n",
       "        [1., 2., 3.],\n",
       "        [1., 2., 3.]])"
      ]
     },
     "execution_count": 19,
     "metadata": {},
     "output_type": "execute_result"
    }
   ],
   "source": [
    "x4*id"
   ]
  },
  {
   "cell_type": "code",
   "execution_count": 20,
   "metadata": {},
   "outputs": [
    {
     "data": {
      "text/plain": [
       "1.0"
      ]
     },
     "execution_count": 20,
     "metadata": {},
     "output_type": "execute_result"
    }
   ],
   "source": [
    "# Número  Inversos: O número vezes o seu inverso da 1\n",
    "3 * 1/3\n",
    "# 1 e o inverso de 3\n"
   ]
  },
  {
   "cell_type": "markdown",
   "metadata": {},
   "source": [
    "### O número multiplicado pelo seu inverso = 1\n",
    "\n",
    "$$ x . x^{-1} = 1$$\n",
    "\n",
    "---\n",
    "Para matrizes, seria a mesma notacao.\n",
    "\n",
    "---\n",
    "## Equação Fundamental da Algera\n",
    "\n",
    "### Matriz Inversa (APENAS para Matrizes quadrada):\n",
    "\n",
    "$$ A . A^{-1} = I$$\n",
    "\n",
    "Partindo da premissa da matriz inversa:\n",
    "\n",
    "$$ A . X = Y $$\n",
    "\n",
    "$$ A . A^{-1}.X = A^{-1}.Y$$\n",
    "\n",
    "$$ X = A^{-1}.Y$$\n",
    "---\n",
    "### Matriz Transposta (Matrizes NÃO quadrada): Nada mais e que inverter a linha pela coluna\n",
    "- Método dos Mínimos Quadrados\n",
    "\n",
    "\n",
    "$$X = (A^{T}A)^{-1}A^{T}Y$$\n",
    "\n",
    "- Multiplicar pela Matriz transposta com a Matriz iremos ter uma correção linear, nos possibilitando achar uma \"Matriz quadrada\". \n",
    "Por isso se chama Pseudo Matriz inversa, pois para ter se tornado inversa, tivemos que fazer uma Correção Linear.\n",
    "\n",
    "- Com essa mesma Equação, conseguimos resolver o problema Método dos número quadrados, que resolve problemas de Interpolação de Reta, quando você está fazendo uma Regressão Linear.\n",
    "\n",
    "\n",
    "\n"
   ]
  },
  {
   "cell_type": "code",
   "execution_count": 21,
   "metadata": {},
   "outputs": [],
   "source": [
    "import matplotlib.pyplot as plt"
   ]
  },
  {
   "cell_type": "code",
   "execution_count": 22,
   "metadata": {},
   "outputs": [
    {
     "data": {
      "text/plain": [
       "Text(0.5, 1.0, 'Interpolacao da reta sobre todos')"
      ]
     },
     "execution_count": 22,
     "metadata": {},
     "output_type": "execute_result"
    },
    {
     "data": {
      "image/png": "[encoded data removed]",
      "text/plain": [
       "<Figure size 1000x500 with 1 Axes>"
      ]
     },
     "metadata": {},
     "output_type": "display_data"
    }
   ],
   "source": [
    "x1, y1 = -1,0\n",
    "x2, y2 = 0,1\n",
    "x3, y3 = 1,2\n",
    "x4, y4 = 2,1\n",
    "\n",
    "x = [x1,x2,x3,x4]\n",
    "y = [y1,y2,y3,y4]\n",
    "\n",
    "plt.figure(figsize=(10,5))\n",
    "\n",
    "plt.scatter(x1,y1, color = \"green\", label= \"Pares ordenados (x,y)\")\n",
    "plt.scatter(x2,y2, color = \"green\")\n",
    "plt.scatter(x3,y3, color = \"green\")\n",
    "plt.scatter(x4,y4, color = \"green\")\n",
    "\n",
    "plt.plot(x,y, label=\"Grafico que liga os pontos\")\n",
    "plt.grid(True)\n",
    "plt.box(False)\n",
    "plt.legend()\n",
    "plt.title(\"Interpolacao da reta sobre todos\")\n",
    "\n",
    "            \n"
   ]
  },
  {
   "cell_type": "code",
   "execution_count": 23,
   "metadata": {},
   "outputs": [],
   "source": [
    "# Função Afim, Função que fornece uma Reta:\n",
    "#                            y =  mx + n \n",
    "#          (x, y)\n",
    "# x1, y1 = -1, 0 --------->  0 = -m + n ----->  0 = -1*m + 1*n -----> -1 e 1       *Coeficiente e quem acompanha a letra (-1m  / 1n)\n",
    "# x2, y2 =  0, 1 --------->  1 = 0m + n ----->  1 =  0*m + 1*n ----->  0 e 1       *Coeficiente e quem acompanha a letra (-1m  / 1n)  \n",
    "# x3, y3 =  1, 2 --------->  2 = 1m + n ----->  2 =  1*m + 1*n ----->  1 e 1       *Coeficiente e quem acompanha a letra (-1m  / 1n)  \n",
    "# x4, y4 =  2, 1 --------->  1 = 2m + n ----->  1 =  2*m + 1*n ----->  2 e 1       *Coeficiente e quem acompanha a letra (-1m  / 1n)  \n",
    "\n",
    "\n",
    "A = np.array([[-1,1],[0,1],[1,1],[2,1]])                     # Coeficiente que acompanha o m e n\n",
    "y = np.array([[y1], [y2], [y3],[y4]]) "
   ]
  },
  {
   "cell_type": "code",
   "execution_count": 24,
   "metadata": {},
   "outputs": [
    {
     "data": {
      "text/plain": [
       "array([[-1,  1],\n",
       "       [ 0,  1],\n",
       "       [ 1,  1],\n",
       "       [ 2,  1]])"
      ]
     },
     "execution_count": 24,
     "metadata": {},
     "output_type": "execute_result"
    }
   ],
   "source": [
    "A"
   ]
  },
  {
   "cell_type": "code",
   "execution_count": 25,
   "metadata": {},
   "outputs": [
    {
     "data": {
      "text/plain": [
       "array([[0],\n",
       "       [1],\n",
       "       [2],\n",
       "       [1]])"
      ]
     },
     "execution_count": 25,
     "metadata": {},
     "output_type": "execute_result"
    }
   ],
   "source": [
    "y"
   ]
  },
  {
   "cell_type": "code",
   "execution_count": 26,
   "metadata": {},
   "outputs": [
    {
     "name": "stdout",
     "output_type": "stream",
     "text": [
      "[0.4] [0.8]\n"
     ]
    }
   ],
   "source": [
    "# Achando m e n da função (y =  mx + n), com o método dos mínimos quadrado para equações generalizadas\n",
    "(m,n) = np.dot(np.dot(np.linalg.pinv(np.dot(A.T,A)),A.T),y)\n",
    "\n",
    "print(m,n)"
   ]
  },
  {
   "cell_type": "code",
   "execution_count": 27,
   "metadata": {},
   "outputs": [
    {
     "data": {
      "text/plain": [
       "Text(0.5, 1.0, 'Interpolacao da reta sobre todos')"
      ]
     },
     "execution_count": 27,
     "metadata": {},
     "output_type": "execute_result"
    },
    {
     "data": {
      "image/png": "[encoded data removed]",
      "text/plain": [
       "<Figure size 1000x500 with 1 Axes>"
      ]
     },
     "metadata": {},
     "output_type": "display_data"
    }
   ],
   "source": [
    "plt.figure(figsize=(10,5))\n",
    "\n",
    "plt.scatter(x1,y1, color = \"green\", label= \"Pares ordenados (x,y)\")\n",
    "plt.scatter(x2,y2, color = \"green\")\n",
    "plt.scatter(x3,y3, color = \"green\")\n",
    "plt.scatter(x4,y4, color = \"green\")\n",
    "\n",
    "v_x = np.linspace(-1,2) # Cria distribuicao de pontos que varia de -1 a 2\n",
    "plt.plot(x,y, label=\"Grafico que liga os pontos\")\n",
    "plt.plot(v_x, m*v_x + n, label=\"Reta otimizada pelo MMQ\") \n",
    "plt.grid(True)\n",
    "plt.box(False)\n",
    "plt.legend()\n",
    "plt.title(\"Interpolacao da reta sobre todos\")"
   ]
  },
  {
   "cell_type": "markdown",
   "metadata": {},
   "source": [
    "# Estatística"
   ]
  },
  {
   "cell_type": "markdown",
   "metadata": {},
   "source": [
    "- Variavel Categorica: classificação de dados.\n",
    "- Variavel Discreta: é um número inteiro, variaveis contaveis, que são números finito.\n",
    "- Variavel Continua: números reais (decimais, inteiros, qualquer número)\n",
    "- Y variavel dependente\n",
    "- X variavel independente\n"
   ]
  },
  {
   "cell_type": "markdown",
   "metadata": {},
   "source": [
    "Na análise de dados, a estatística é uma ferramenta fundamental para extrais informações a partir dos dados disponíveis. Como identificar padrões e Tendencias, testar hipóteses e ajudar a realizar previsões.\n"
   ]
  },
  {
   "cell_type": "markdown",
   "metadata": {},
   "source": [
    "\n",
    "### Estatística Descritiva: \n",
    "Tem como objetivo descrever e resumir um conjunto de dados, identificar padrões e tendencias, assim como resumiras características mais importantes dos dados de interesse.\n",
    "\n",
    "1º passo: Coleta de dados\n",
    "2º passo: Cálculos das medidas de tendencia central, que incluem a média, mediana e moda, e medidas de dispersão, como o Desvio Padrão e a variância.\n",
    "\n",
    "Essas medidas são utilizadas para entender como os dados estão distribuídos e identificar a presença de valores extremos.\n",
    "\n",
    "Os gráficos também são utilizados na estatística Descritiva, como o histograma, gráfico de barras e o diagrama de caixa (Boxplot), que permitem identificar a forma da distribuição, a presença de valores atípicos e comparar grupos de dados.\n",
    "\n",
    "** Não permite fazer generalizações ou inferências sobre a população. **"
   ]
  },
  {
   "cell_type": "markdown",
   "metadata": {},
   "source": [
    "### População: \n",
    "É o conjunto completo de indivíduos, objetos, eventos ou medidas que deseja estudar e sobre os quais se quer fazer inferências. Podendo ser constituída por elementos físicos, como pessoas, animais, objetos ou por conceitos abstratos, como ideias ou valores.\n",
    "Muitas vezes é inviável ou impraticável toda a população. Nesses casos, são selecionadas amostras da população para serem estudadas."
   ]
  },
  {
   "cell_type": "markdown",
   "metadata": {},
   "source": [
    "### Escala de Mensuração: \n",
    "Descreve os diferentes tipos de dados que podem ser coletados em uma pesquisa ou estudo. Existem quatro tipos principais de mensuração:\n",
    "\n",
    "- Nominal: Usada para classificar dados em categorias ou classes sem uma ordem específica, como cor dos olhos ou sexo dos indivíduos.\n",
    "\n",
    "- Ordinal: Usada também para dados em categorias, porém em ordem específica, como notas de uma prova ou classificação de equipes em campeonato.\n",
    "\n",
    "- Intervalar: Usada para medir dados em uma escala numérica, onde as diferenças entre os valores são iguais, mas não um valor zero absoluto, como temperatura em graus Celsius.\n",
    "\n",
    "- Razão: Usada para medir dados em uma escala numérica, onde as diferenças entre os valores são iguais, incluindo valor zero absoluto, como altura e peso. Permite realizar cálculos de multiplicação e divisão entre as medidas.\n",
    "\n",
    "É importante definir a escala de mensuração adequada desde o início da coleta de dados."
   ]
  },
  {
   "cell_type": "markdown",
   "metadata": {},
   "source": [
    "### Medidas Resumo de Tendencias: \n",
    "São utilizadas na Estatística para resumir e descrever a localização central dos dados em conjunto de observações. Elas são:\n",
    "\n",
    "- Media: é utilizada em estudos estatísticos para resumir e descrever características de um conjunto de dados. Porém é uma medida sensível a valores extremos (outliers).\n",
    "\n",
    "- Mediana: Representa o valor central de um conjunto de dados. Se o conjunto de dados tiver um número par de elementos, a mediana é a média aritmética dos dois valores centrais. E considerada uma medida robusta para descrever a tendencia central de um conjunto de dados, pois ela não é afetada por valores extremos (outliers).\n",
    "- Moda: Representa o valor com maior frequência. É uma medida robusta em relação a valores extremos, pois não é influenciada por valores muitos diferentes dos demais. São amplamente utilizados em diversas áreas, como finanças, saúde, pesquisa de mercado.\n"
   ]
  },
  {
   "cell_type": "markdown",
   "metadata": {},
   "source": [
    "OBS.: MODA> Quando os dados nao se repetem, não tem moda. Seria AMODAL"
   ]
  },
  {
   "cell_type": "markdown",
   "metadata": {},
   "source": [
    "### Medidas Resumo de Variabilidade\n",
    "Descreve a dispersão dos dados em torno de uma medida de tendencia central, ajuda a entender a variação dos dados. Essas medidas são:\n",
    "\n",
    "- Amplitude: É a diferença entre o maior e menos valor, indicando a extensão total dos dados. Não é muito precisa pois é sensível a valores extremos.\n",
    "\n",
    "- Desvio Padrão: é uma medida que indica a dispersão dos dados em relação à média. Quanto maior o desvio padrão, maior é a variação dos dados em relação à média. Utilizada em inferência estatística para avaliar a previsão de uma estimativa.\n",
    "\n",
    "- Variância: Indica o quão distante os valores estão da média, ou seja, a variação dos dados. É calculada como a medias dos quadrados entre cada valor e a média. É útil para avaliar a dispersão dos dados em torno da média.\n",
    "\n",
    "- Quartis: São valores que dividem os dados em quatro partes iguais, cada um contendo 25% dos dados. O primeiro quartil (Q1) é o valor que divide os 25% menores dos dados, o segundo quartil (Q2) é a mediana e o terceiro quartil (Q3) é o valor que divide os 25% maiores dos dados e o quarto quartil (Q4).\n"
   ]
  },
  {
   "cell_type": "markdown",
   "metadata": {},
   "source": [
    "### Forma de Distribuição: \n",
    "Descreve a aparência geral da distribuição, incluindo a simetria, o achatamento e a presença de valores extremos (outliers). A forma de distribuição pode indicar a presença de padrões e relações entre variáveis.\n",
    "\n",
    "- Simétrica: Um exemplo é a distribuição normal, também conhecida como curva em forma de sino.\n",
    "\n",
    "- Assimétrica à direita: É quando a cauda da curva se estende mais para o lado direito. Isso ocorre quando há valores extremamente altos que puxam a média para cima, enquanto a maioria dos dados está concentrada no lado esquerdo da distribuição. \n",
    "\n",
    "- Assimétrica à esquerda: É quando a cauda da curva se estende mais para o lado esquerdo. Isso ocorre quando há valores extremamente baixos que puxam a média para baixo, enquanto a maioria dos dados está concentrada no lado direito da distribuição.\n",
    "\n",
    "- Bimodal: Quando existem dois picos na curva, indicando que existem dois grupos diferentes de observações. \n",
    "\n",
    "* Detecção de Outlier: É importante para identificar valores que se afastam significativamente do padrão dos demais valores em um conjunto de dados. Podem ter um impacto significativo nas estatísticas descritivas, como a média e o desvio padrão, levando a resultados incorretos ou imprecisos. Para detectar outlier:\n",
    "- Análise Gráfica: Podem ajudar a identificar valores discrepantes que se afastam significativamente do padrão dos demais valores.\n",
    "\n",
    "-Testes estatísticos: Teste estatísticos com o Teste-Z ou o teste de Dixon, que podem ser usados para identificar valores extremos com base em desvios da média ou em comparações entre valores.\n",
    "\n",
    "- Método de modelagem: A detecção e remoção de outliers pode melhorar a precisão do modelo e as inferências obtidas a partir dele.\n",
    "\n"
   ]
  },
  {
   "cell_type": "markdown",
   "metadata": {},
   "source": [
    "### Probabilidade: \n",
    "É usada para descrever e quantificar a incerteza associada a um evento aleatório.\n",
    "\n",
    "Um evento aleatório é um evento cujo resultado não pode ser previsto com certeza, como o lançamento de um dado ou a escolha de uma carta de um baralho. A probabilidade de um evento é expressa como um número entre 0 e 1, sendo que 0 indica a impossibilidade de ocorrer e 1 indica a certeza de que ocorrerá.\n",
    "\n",
    "Podendo ser calculada com a Teoria Clássica, A teoria da Frequência Relativa ou a Teoria das probabilidades condicionais. Todas essas teorias se baseiam em contar o número de resultados possíveis e dividir pelo número total de resultados."
   ]
  },
  {
   "cell_type": "markdown",
   "metadata": {},
   "source": [
    "### Distribuição de Poisson: \n",
    "É a distribuição de probabilidade de um número de eventos ocorrer em um intervalo de tempo ou espaço específico.\n",
    " \n",
    "A distribuição de Poisson é caracterizada por um único parâmetro, Lambda, que representa a taxa média de ocorrência do evento. É possível calcular a probabilidade de um número específico de eventos em um determinado intervalo de tempo ou espaço."
   ]
  },
  {
   "cell_type": "markdown",
   "metadata": {},
   "source": [
    "### Distribuição Normal ou Distribuição Gaussiana (mais utilizadas na estatística):  \n",
    "É caracterizada por uma curva simétrica em forma de sino, onde a maior parte dos dados esta concentrada em torno da média, com a  frequência de ocorrência diminuindo a medida que se afasta da média.\n",
    "\n",
    "É definida por dois parâmetros: a média e o desvio padrão. A média é o valor central da distribuição e o desvio padrão é uma medida de dispersão que indica o quão longe os valores estão da média. Frequentemente usada em teste estatísticos, como testes de hipóteses e intervalos de confiança, e em análise de regressão, entre outras aplicações. "
   ]
  },
  {
   "cell_type": "markdown",
   "metadata": {},
   "source": [
    "### Probabilidade Condicional: \n",
    "É expressa pela probabilidade de um evento A ocorrer, dado que B já ocorreu ou é conhecido. Representada pela fórmula P (A|B), onde P é da probabilidade, A é o evento em questão e B é o evento conhecido."
   ]
  },
  {
   "cell_type": "markdown",
   "metadata": {},
   "source": [
    "### Inferência Estatística: \n",
    "É o processo de usar amostras de dados para fazer afirmações ou inferências sobre uma população maior a partir da qual os dados foram coletados.\n",
    "Muitas vezes é impossível coletar dados de uma população inteira, por isso é mais viável coletar amostrar dos dados e usar inferência estatística para extrais informações sobre a população a partir da amostra."
   ]
  },
  {
   "cell_type": "markdown",
   "metadata": {},
   "source": [
    "### Intervalo de confiança: \n",
    "É uma medida estatística que fornece um intervalo de valores plausíveis para um parâmetro desconhecido da população com um determinado nível de confiança. É um intervalo estimado a partir de uma amostra de dados que provavelmente inclui o valor verdadeiro do parâmetro."
   ]
  },
  {
   "cell_type": "markdown",
   "metadata": {},
   "source": [
    "### Teste de Hipóteses: \n",
    "É um procedimento que permite tirar conclusões sobre uma população com base em informações obtidas de uma amostra.\n",
    "\n",
    "Para realizar um teste de hipótese, é necessário escolher um nível de significância, que representa a probabilidade máxima de cometer um erro do tipo I (rejeitar erroneamente a hipótese nula). Em seguida, é necessário calcular uma estatística de teste apropriado para o problema em questão e compará-lo com um valor com um valor crítico ou P-valor determinado pelo nível de significância escolhido.\n",
    "\n",
    "Se a estatística de teste calcular for maior do que o valor crítico ou se o p-valor for menor do que o nível de significância, a hipótese nula é rejeitada em favor da hipótese alternativa. Caso contrário, não há evidências suficientes para rejeitar a hipótese nula. "
   ]
  },
  {
   "cell_type": "markdown",
   "metadata": {},
   "source": [
    "### Análise de Associação: \n",
    "é uma técnica estatística que busca avaliar a relação entre duas variáveis. Os métodos mais comuns são o teste Qui-quadrado e a correlação de Pearson.\n",
    "\n",
    "- Qui-quadrado: é usado para avaliar a associação entre duas variáveis categóricas. Ela compara as frequências observadas de cada categoria em uma tabela de contingência com as frequências esperadas sob a hipótese nula de que não há associação entre as variáveis. Se as frequências observadas diferem significativamente das esperadas, então a hipótese alternativa de que há associação entre as variáveis.\n",
    "Ela é útil para investigar associações entre variáveis categóricas, como a relação entre gênero e preferência de um produto.\n",
    "\n",
    "- Correlação de Pearson: é usada para avaliar a associação linear entre duas variáveis quantitativas. Ela mede o grau e a direção da relação entre as variáveis, variando de -1 (correlação perfeita negativa), a +1 (correlação perfeita positiva), o 0 indicando ausência de correlação. \n",
    "Uma correlação positiva significa que as variáveis tentem a aumentar ou diminuir juntas, enquanto a correlação negativa indica que elas tendem a variar em direções opostas.\n",
    "Ela é útil para avaliar relação entre idade e renda\n",
    "\n",
    "Link Importante: https://lucasmbribeiro.medium.com/dicas-de-estat%C3%ADstica-para-an%C3%A1lise-de-dados-9ba4d9a71646"
   ]
  },
  {
   "cell_type": "markdown",
   "metadata": {},
   "source": [
    "### Teoria dos Conjuntos: \n",
    "É a área da matemática que estuda a propriedade e a estrutura dos conjuntos, que são coleções de objetos bem definidos. \n",
    "\n",
    "Os conjuntos são utilizados na análise de dados para representar grupos de elementos com características semelhantes, como por exemplo, um conjunto de clientes de uma empresa ou um conjunto de observações de uma variável específica em um estudo estatístico.\n",
    "\n",
    "Algumas das operações de conjuntos mais comuns utilizadas na análise de dados incluem a união, intersecção e diferença entre conjuntos. Essas operações podem ser usadas para identificar padrões, comparar grupos e filtrar dados."
   ]
  },
  {
   "cell_type": "markdown",
   "metadata": {},
   "source": [
    "### Sistemas Lineares: \n",
    "São um conjunto de equações lineares que descrevem as relações entre várias variáveis em um sistema. Na análise de dados, sistema lineares são frequentemente utilizados para modelar problemas que envolvem múltiplas variáveis e suas interações.\n",
    "Os sistemas lineares podem ser usados para resolver problemas de otimização, como encontrar os valores das variáveis que maximizam ou minimizam uma função objetivo sujeita a restrições lineares.\n"
   ]
  },
  {
   "cell_type": "markdown",
   "metadata": {},
   "source": [
    "## Polinômio cúbico\n",
    "Um polinômio cúbico é um polinômio de grau 3, o que significa que a maior potência da variável é 3. A forma geral de um polinômio cúbico em uma variável \n",
    "𝑥\n",
    "x é:\n",
    "\n",
    "$$AX^3 + BX^2 + CX + D$$\n",
    "\n",
    "onde:\n",
    "* a,b,c e 𝑑 são coeficientes reais ou complexos,\n",
    "* a==0 para garantir que o polinômio seja de grau 3.\n",
    "\n",
    "### Propriedades dos Polinômios Cúbicos\n",
    "1. Raízes: Um polinômio cúbico pode ter até três raízes reais. As raízes podem ser encontradas analiticamente ou numericamente.\n",
    "2. Forma da Curva: A curva de um polinômio cúbico pode ter até duas inflexões (pontos onde a concavidade muda).\n",
    "3. Interceptos:\n",
    "* O intercepto 𝑦 ocorre em X=0 e é igual a 𝑑.\n",
    "* O intercepto 𝑥 (ou raízes) são os valores de 𝑥 para os quais $$AX^3 + BX^2 + CX + D$$\n",
    "\n",
    "\n",
    "### Exemplo de Polinômio Cúbico\n",
    "Um exemplo simples de um polinômio cúbico é:\n",
    "$$2X^3 - 3X^2 - 1X -5$$\n",
    "\n",
    "Aqui, os coeficientes são: 𝑎=2, 𝑏=−3, c=1, e 𝑑=−5.\n",
    "\n",
    "### Visualização\n",
    "Graficamente, um polinômio cúbico pode ter várias formas dependendo dos coeficientes, mas sempre terá a forma característica de uma curva suave que pode ter até duas inflexões e até três raízes reais.\n",
    "\n",
    "### Aplicações\n",
    "Polinômios cúbicos são usados em diversas áreas da matemática e das ciências, incluindo:\n",
    "\n",
    "* Interpolação e aproximação de funções,\n",
    "* Solução de equações diferenciais,\n",
    "* Modelagem de fenômenos naturais e físicos,\n",
    "* Análise financeira e econômica.\n",
    "\n",
    "### Resolução de Polinômios Cúbicos\n",
    "Resolver um polinômio cúbico analiticamente pode ser complicado, mas existe uma fórmula geral para encontrar as raízes de um polinômio cúbico. Em muitos casos, métodos numéricos, como o método de Newton-Raphson, são usados para encontrar as raízes."
   ]
  },
  {
   "cell_type": "markdown",
   "metadata": {},
   "source": [
    "## Desafio\n",
    "Proposta: Você foi chamado para um processo seletivo pela empresa de consultoria FIAPMETRICS. A vaga consiste em integrar a equipe de Advanced Analytic, e foi proposto um teste\n",
    "técnico de nivelamento para que a empresa veja como podem avançar com você.\n",
    "\n",
    "O teste consiste em encontrar o polinômio cúbico através do método dos mínimos quadrados (MMQ) que passa pelos pontos: (-1, -10), (0, 5), (1, 6), (2, 11) e (3, 42).\n",
    "Utilize como base a equação geral dos polinômio cúbico:\n",
    "\n",
    "$$AX^3 + BX^2 + CX + D$$\n",
    "\n",
    "Plote o gráfico demonstrando esse polinômio cúbico que melhor se ajusta aos pontos dados.\n"
   ]
  },
  {
   "cell_type": "markdown",
   "metadata": {},
   "source": [
    "\\begin{pmatrix}\n",
    "−1 & −10 \\\\\n",
    "0 & 5 \\\\\n",
    "1 & 6 \\\\\n",
    "2 & 11 \\\\\n",
    "3 & 42 \\\\\n",
    "\\end{pmatrix}"
   ]
  },
  {
   "cell_type": "code",
   "execution_count": 2,
   "metadata": {},
   "outputs": [],
   "source": [
    "import numpy as np\n",
    "import matplotlib.pyplot as plt"
   ]
  },
  {
   "cell_type": "code",
   "execution_count": 3,
   "metadata": {},
   "outputs": [],
   "source": [
    "pontos = np.array([[-1, -10], [0, 5], [1, 6], [2, 11], [3, 42]])"
   ]
  },
  {
   "cell_type": "code",
   "execution_count": 4,
   "metadata": {},
   "outputs": [],
   "source": [
    "x = pontos[:, 0] # todos os valores de x\n",
    "y = pontos[:, 1] # todos os valores de y"
   ]
  },
  {
   "cell_type": "markdown",
   "metadata": {},
   "source": [
    "https://numpy.org/doc/stable/reference/generated/numpy.vstack.html\n",
    "\n",
    "* Montar a Matriz do Sistema Linear\n",
    "Passo a Passo\n",
    "\n",
    "1. Transformação dos Dados:\n",
    "\n",
    "$ x^3 $ : Calcula o cubo de cada elemento em x.\n",
    "\n",
    "$ x^2 $ : Calcula o quadrado de cada elemento em x.\n",
    "\n",
    "x: Mantém os elementos de x inalterados (potência 1).\n",
    "\n",
    "np.ones_like(x): Cria uma matriz de uns que tem o mesmo comprimento que x.\n",
    "\n",
    "2. Empilhar Verticalmente:\n",
    "\n",
    "np.vstack([x**3, x**2, x, np.ones_like(x)]) empilha essas matrizes verticalmente, criando uma nova matriz com 4 linhas (cada linha corresponde a uma das transformações de x).\n",
    "\n",
    "3. Transpor a Matriz:\n",
    "\n",
    ".T transpõe a matriz, trocando linhas por colunas. Isso é necessário porque queremos que cada linha corresponda a um ponto de dados (e não a uma transformação de x).\n"
   ]
  },
  {
   "cell_type": "code",
   "execution_count": 5,
   "metadata": {},
   "outputs": [],
   "source": [
    "X = np.vstack([x**3, x**2, x, np.ones_like(x)]).T"
   ]
  },
  {
   "cell_type": "markdown",
   "metadata": {},
   "source": [
    "* Definir o Problema como um Sistema Linear:\n",
    "\n",
    "1. O problema agora é encontrar os coeficientes A, B, C, e D que resolvem o sistema linear:\n",
    "\n",
    "$X \\begin{pmatrix} A \\\\ B \\\\ C \\\\ D \\end{pmatrix} = y$\n",
    "\n",
    "\n",
    "\n",
    "Onde \n",
    "X é a matriz que montamos e y é o vetor das coordenadas y.\n",
    "\n",
    "2. Resolução Usando np.linalg.lstsq:\n",
    "\n",
    "- np.linalg.lstsq(X, y, rcond=None): Esta função resolve o problema dos mínimos quadrados para o sistema de equações lineares 𝑋.𝑐 = 𝑦. Ela retorna uma tupla, onde o primeiro elemento é o vetor de coeficientes c=[A,B,C,D].\n",
    "- [0]: Seleciona apenas o vetor de coeficientes da tupla retornada."
   ]
  },
  {
   "cell_type": "code",
   "execution_count": 6,
   "metadata": {},
   "outputs": [],
   "source": [
    "coefficients = np.linalg.lstsq(X, y, rcond=None)[0]"
   ]
  },
  {
   "cell_type": "code",
   "execution_count": 7,
   "metadata": {},
   "outputs": [
    {
     "name": "stdout",
     "output_type": "stream",
     "text": [
      "Coeficientes:\n",
      "A = 3.3333333333333357\n",
      "B = -7.42857142857144\n",
      "C = 4.523809523809532\n",
      "D = 5.2285714285714375\n"
     ]
    }
   ],
   "source": [
    "# Mostrar os coeficientes calculados\n",
    "A, B, C, D = coefficients\n",
    "print(f\"Coeficientes:\\nA = {A}\\nB = {B}\\nC = {C}\\nD = {D}\")"
   ]
  },
  {
   "cell_type": "code",
   "execution_count": 9,
   "metadata": {},
   "outputs": [],
   "source": [
    "# Definição da Função do Polinômio Cúbico: Definimos uma função que calcula o valor do polinômio cúbico para um dado x.\n",
    "def cubic_polynomial(x):\n",
    "    return A * x**3 + B * x**2 + C * x + D"
   ]
  },
  {
   "cell_type": "markdown",
   "metadata": {},
   "source": [
    "Essas linhas de código geram valores de x para plotar o polinômio ajustado e, em seguida, calculam os valores correspondentes de \n",
    "y usando a função cubic_polynomial.\n",
    "\n",
    "* np.linspace(min(x) - 1, max(x) + 1, 100): Esta linha gera 100 valores de x igualmente espaçados entre o valor mínimo de x menos 1 e o valor máximo de \n",
    "x mais 1. Esses valores são usados para criar uma faixa de x sobre a qual o polinômio ajustado será plotado.\n",
    "\n",
    "* cubic_polynomial(x_fit): Esta linha calcula os valores correspondentes de y para cada valor de x na faixa gerada anteriormente, utilizando a função cubic_polynomial. Isso nos dá os valores de y correspondentes ao polinômio ajustado para cada ponto ao longo da faixa de x.\n",
    "\n",
    "Esses valores de x e y são então usados para plotar o polinômio ajustado sobre os pontos de dados originais."
   ]
  },
  {
   "cell_type": "code",
   "execution_count": 10,
   "metadata": {},
   "outputs": [],
   "source": [
    "# Geração de valores para plotar o polinômio ajustado\n",
    "x_fit = np.linspace(min(x) - 1, max(x) + 1, 100)\n",
    "y_fit = cubic_polynomial(x_fit)"
   ]
  },
  {
   "cell_type": "code",
   "execution_count": 11,
   "metadata": {},
   "outputs": [
    {
     "data": {
      "image/png": "[encoded data removed]",
      "text/plain": [
       "<Figure size 640x480 with 1 Axes>"
      ]
     },
     "metadata": {},
     "output_type": "display_data"
    }
   ],
   "source": [
    "# Plotar os pontos fornecidos e o polinômio ajustado\n",
    "plt.scatter(x, y, color='blue', label='Pontos fornecidos')\n",
    "plt.plot(x_fit, y_fit, color='red', label='Polinômio cúbico ajustado')\n",
    "plt.xlabel('X')\n",
    "plt.ylabel('Y')\n",
    "plt.legend()\n",
    "plt.title('Ajuste do Polinômio Cúbico usando MMQ')\n",
    "plt.grid(True)\n",
    "plt.show()"
   ]
  },
  {
   "cell_type": "markdown",
   "metadata": {},
   "source": [
    "FÁVERO, Luiz Paulo; BELFIORE, Patricia. Manual de Análise de Dados - Estatística e Modelagem Multivariada com Excel®, SPSS® e Stata® Elsevier, 2017 \n",
    "\n",
    "MORETIM, Pedro A.; BUSSAB, Wilson de O.. Estatistica Básica. Saraiva, 2017."
   ]
  }
 ],
 "metadata": {
  "kernelspec": {
   "display_name": "base",
   "language": "python",
   "name": "python3"
  },
  "language_info": {
   "codemirror_mode": {
    "name": "ipython",
    "version": 3
   },
   "file_extension": ".py",
   "mimetype": "text/x-python",
   "name": "python",
   "nbconvert_exporter": "python",
   "pygments_lexer": "ipython3",
   "version": "3.11.7"
  }
 },
 "nbformat": 4,
 "nbformat_minor": 2
}
